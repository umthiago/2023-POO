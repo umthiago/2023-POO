{
 "cells": [
  {
   "cell_type": "markdown",
   "id": "a49e99d1-9f68-40a8-a286-903f2fd2251b",
   "metadata": {},
   "source": [
    "# Atv06"
   ]
  },
  {
   "cell_type": "markdown",
   "id": "2f43b1b3-44a5-4b52-81b9-1b57ace64201",
   "metadata": {},
   "source": [
    "Atividade:\n",
    "\n",
    "--> Dados os valores de um depósito fixo mensal e um montante desejado, crie uma classe para determinar quantos meses serão necessários para acumular o montante desejado, considerando juros mensais de 0,5%."
   ]
  },
  {
   "cell_type": "code",
   "execution_count": 1,
   "id": "4d1aa8ae-5b25-4e64-b302-407522e905f9",
   "metadata": {},
   "outputs": [
    {
     "name": "stdout",
     "output_type": "stream",
     "text": [
      "Digite o valor do deposito fixo mensal: 550\n",
      "\n",
      "Digite o montante desejado: 2000\n",
      "\n",
      "Será necessario 4 meses até chegar no monte desejado!!Valor adquirido nesses 4 meses: R$2282.50"
     ]
    },
    {
     "data": {
      "text/plain": [
       "null"
      ]
     },
     "execution_count": 1,
     "metadata": {},
     "output_type": "execute_result"
    }
   ],
   "source": [
    "import java.util.Scanner;\n",
    "\n",
    "Scanner ent = new Scanner(System.in);\n",
    "\n",
    "double depositoMensal;\n",
    "double montanteDesejado;\n",
    "int meses = 1;\n",
    "double contagem = 0;\n",
    "          \n",
    "System.out.print(\"Digite o valor do deposito fixo mensal: \");\n",
    "depositoMensal = ent.nextDouble();\n",
    "          \n",
    "System.out.print(\"\\nDigite o montante desejado: \");\n",
    "montanteDesejado = ent.nextDouble();\n",
    "\n",
    "contagem = depositoMensal;\n",
    "          \n",
    "while (contagem < montanteDesejado){\n",
    "              \n",
    "    contagem = contagem + (depositoMensal * 1.05);\n",
    "    meses = meses + 1;\n",
    "          \n",
    "}\n",
    "          \n",
    "System.out.printf(\"%nSerá necessario %d meses até chegar no monte desejado!!\", meses);\n",
    "System.out.printf(\"Valor adquirido nesses %d meses: R$%.2f\", meses, contagem);"
   ]
  }
 ],
 "metadata": {
  "kernelspec": {
   "display_name": "Java",
   "language": "java",
   "name": "java"
  },
  "language_info": {
   "codemirror_mode": "text/x-java",
   "file_extension": ".java",
   "mimetype": "",
   "name": "Java",
   "nbconverter_exporter": "",
   "version": "1.8.0_121"
  },
  "toc": {
   "base_numbering": 1,
   "nav_menu": {},
   "number_sections": false,
   "sideBar": false,
   "skip_h1_title": false,
   "title_cell": "Table of Contents",
   "title_sidebar": "Contents",
   "toc_cell": false,
   "toc_position": {},
   "toc_section_display": false,
   "toc_window_display": false
  }
 },
 "nbformat": 4,
 "nbformat_minor": 5
}
